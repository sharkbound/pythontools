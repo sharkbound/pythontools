{
 "cells": [
  {
   "cell_type": "code",
   "execution_count": 242,
   "metadata": {
    "collapsed": true,
    "pycharm": {
     "name": "#%%\n"
    }
   },
   "outputs": [],
   "source": [
    "import re\n",
    "from collections import namedtuple\n",
    "from enum import Flag, auto, Enum, IntFlag\n",
    "from string import ascii_letters\n",
    "from typing import NamedTuple\n",
    "\n",
    "from icecream import ic\n",
    "\n",
    "\n",
    "class ValueType(IntFlag):\n",
    "    INVALID = 0\n",
    "    INT = auto()\n",
    "    FLOAT = auto()\n",
    "    NUMBER_LITERAL = auto()\n",
    "    VARIABLE = auto()\n",
    "    GROUPING = auto()\n",
    "    OPERATOR = auto()\n",
    "\n",
    "    @classmethod\n",
    "    def float_type(cls):\n",
    "        return cls.FLOAT | cls.NUMBER_LITERAL\n",
    "\n",
    "    @classmethod\n",
    "    def int_type(cls):\n",
    "        return cls.INT | cls.NUMBER_LITERAL\n",
    "\n",
    "\n",
    "GROUPING_CHARS = set('()')\n",
    "\n",
    "MATH_CHARS = set('*/-+^')\n",
    "EQUALITY_CHARS = set('=!<>')\n",
    "\n",
    "EQUALITY_OPERATORS = {'==', '!=', '<', '>', '<=', '>='}\n",
    "MATH_OPERATORS = {'*', '/', '-', '+', '^'}\n",
    "\n",
    "ALL_NUMBER_LITERAL_CHARS = set('01234567890-+')\n",
    "ALL_OPERATOR_CHARS = MATH_CHARS | EQUALITY_CHARS\n",
    "ALL_VARIABLE_CHARS = set(ascii_letters) | {'_'}\n",
    "\n",
    "ALL_OPERATORS = MATH_OPERATORS | EQUALITY_OPERATORS\n",
    "\n",
    "RE_INT = re.compile(r'([-+]?)(\\d+)')\n",
    "\n",
    "\n",
    "class ValueWithIndexShift(NamedTuple):\n",
    "    value: tuple[str]\n",
    "    shift: int\n",
    "    success: bool\n",
    "    type: ValueType = ValueType.INVALID\n",
    "\n",
    "    @property\n",
    "    def islist(self):\n",
    "        return isinstance(self.value, list)\n",
    "\n",
    "    @property\n",
    "    def isstr(self):\n",
    "        return isinstance(self.value, str)\n",
    "\n",
    "    @property\n",
    "    def value_as_str(self):\n",
    "        return ''.join(self.value)\n",
    "\n",
    "    @classmethod\n",
    "    def empty(cls):\n",
    "        return cls(value=(), shift=0, success=False, type=ValueType.INVALID)\n",
    "\n",
    "\n"
   ]
  },
  {
   "cell_type": "code",
   "execution_count": 243,
   "outputs": [],
   "source": [
    "def is_variable_char(char):\n",
    "    return char in ALL_VARIABLE_CHARS\n",
    "\n",
    "\n",
    "def is_operator_sequence(data, i):\n",
    "    peeked = peek_ahead(data, i, ALL_OPERATOR_CHARS.__contains__)\n",
    "    return peeked.value_as_str in ALL_OPERATORS\n",
    "\n",
    "\n",
    "def is_literal(data, i):\n",
    "    value = peek_ahead(data, i, ALL_NUMBER_LITERAL_CHARS.__contains__)\n",
    "    return value.success and RE_INT.match(value.value_as_str)"
   ],
   "metadata": {
    "collapsed": false,
    "pycharm": {
     "name": "#%%\n"
    }
   }
  },
  {
   "cell_type": "code",
   "execution_count": 244,
   "outputs": [],
   "source": [
    "def _read_and_assign_type_if_success(data, i, predicate, type_if_success):\n",
    "    value = peek_ahead(data, i, predicate)\n",
    "    if value.success:\n",
    "        return value._replace(type=type_if_success)\n",
    "    return ValueWithIndexShift.empty()\n",
    "\n",
    "\n",
    "def read_variable(data, index):\n",
    "    return _read_and_assign_type_if_success(data, index, ALL_VARIABLE_CHARS.__contains__, ValueType.VARIABLE)\n",
    "\n",
    "\n",
    "def read_operator(data, index):\n",
    "    return _read_and_assign_type_if_success(data, index, ALL_OPERATOR_CHARS.__contains__, ValueType.OPERATOR)\n",
    "\n",
    "\n",
    "def read_literal(data, index):\n",
    "    value = _read_and_assign_type_if_success(data, index, ALL_NUMBER_LITERAL_CHARS.__contains__,\n",
    "                                             ValueType.NUMBER_LITERAL)\n",
    "    if value.success and RE_INT.match(value.value_as_str):\n",
    "        return value\n",
    "\n",
    "    return value.empty()\n"
   ],
   "metadata": {
    "collapsed": false,
    "pycharm": {
     "name": "#%%\n"
    }
   }
  },
  {
   "cell_type": "code",
   "execution_count": 245,
   "outputs": [
    {
     "data": {
      "text/plain": "[ValueWithIndexShift(value=('x',), shift=1, success=True, type=<ValueType.VARIABLE: 8>),\n ValueWithIndexShift(value=('+',), shift=1, success=True, type=<ValueType.OPERATOR: 32>),\n ValueWithIndexShift(value=('y',), shift=1, success=True, type=<ValueType.VARIABLE: 8>),\n ValueWithIndexShift(value=('+',), shift=1, success=True, type=<ValueType.OPERATOR: 32>),\n ValueWithIndexShift(value=('-', '5'), shift=2, success=True, type=<ValueType.NUMBER_LITERAL: 4>),\n ValueWithIndexShift(value=('+',), shift=1, success=True, type=<ValueType.OPERATOR: 32>),\n ValueWithIndexShift(value=('6',), shift=1, success=True, type=<ValueType.NUMBER_LITERAL: 4>),\n ValueWithIndexShift(value=('=', '='), shift=2, success=True, type=<ValueType.OPERATOR: 32>),\n ValueWithIndexShift(value=('8', '1'), shift=2, success=True, type=<ValueType.NUMBER_LITERAL: 4>)]"
     },
     "execution_count": 245,
     "metadata": {},
     "output_type": "execute_result"
    }
   ],
   "source": [
    "def peek_ahead(data, index, predicate):\n",
    "    chars = []\n",
    "    original_index = index\n",
    "    while index < len(data) and predicate(data[index]):\n",
    "        chars.append(data[index])\n",
    "        index += 1\n",
    "    return ValueWithIndexShift(value=tuple(chars), shift=index - original_index, success=bool(chars))\n",
    "\n",
    "\n",
    "def handle_char(char, data, i):\n",
    "    if is_variable_char(char):\n",
    "        return read_variable(data, i)\n",
    "\n",
    "    if is_literal(data, i):\n",
    "        return read_literal(data, i)\n",
    "\n",
    "    if is_operator_sequence(data, i):\n",
    "        return read_operator(data, i)\n",
    "\n",
    "    return ValueWithIndexShift.empty()\n",
    "\n",
    "\n",
    "def parse_math(equation):\n",
    "    groupings = []\n",
    "    equation = list(re.sub(r'\\s+', ' ', equation))\n",
    "    i = 0\n",
    "    while i < len(equation):\n",
    "        char = equation[i]\n",
    "        if char.isspace():\n",
    "            i += 1\n",
    "            continue\n",
    "        ret = handle_char(char, equation, i)\n",
    "        if not ret.success:\n",
    "            i += 1\n",
    "            continue\n",
    "\n",
    "        groupings.append(ret)\n",
    "        i += ret.shift\n",
    "\n",
    "    return groupings\n",
    "\n",
    "\n",
    "parse_math('x + y + -5 + 6 == 81')"
   ],
   "metadata": {
    "collapsed": false,
    "pycharm": {
     "name": "#%%\n"
    }
   }
  }
 ],
 "metadata": {
  "kernelspec": {
   "display_name": "Python 3",
   "language": "python",
   "name": "python3"
  },
  "language_info": {
   "codemirror_mode": {
    "name": "ipython",
    "version": 2
   },
   "file_extension": ".py",
   "mimetype": "text/x-python",
   "name": "python",
   "nbconvert_exporter": "python",
   "pygments_lexer": "ipython2",
   "version": "2.7.6"
  }
 },
 "nbformat": 4,
 "nbformat_minor": 0
}