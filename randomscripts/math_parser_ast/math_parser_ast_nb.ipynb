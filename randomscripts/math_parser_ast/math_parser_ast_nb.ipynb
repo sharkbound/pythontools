{
 "cells": [
  {
   "cell_type": "code",
   "execution_count": 50,
   "metadata": {
    "collapsed": true,
    "pycharm": {
     "name": "#%%\n"
    }
   },
   "outputs": [],
   "source": [
    "import re\n",
    "from collections import namedtuple\n",
    "from enum import Flag, auto\n",
    "from string import ascii_letters\n",
    "\n",
    "from icecream import ic\n",
    "\n",
    "\n",
    "class ParseMode(Flag):\n",
    "    NONE = auto()\n",
    "    INT = auto()\n",
    "    FLOAT = auto()\n",
    "    VARIABLE = auto()\n",
    "    GROUPING = auto()\n",
    "\n",
    "\n",
    "GROUPING_CHARS = set('()')\n",
    "MATH_CHARS = set('+-*^')\n",
    "EQUALITY_CHARS = {'==', '!='}\n",
    "VARIABLE_CHARS = set(ascii_letters) | {'_'}\n",
    "\n",
    "ValueWithIndexChange = namedtuple('ValueWithIndexChange', 'value shift')"
   ]
  },
  {
   "cell_type": "code",
   "execution_count": 51,
   "outputs": [],
   "source": [
    "\n",
    "\n",
    "def read_variable(data, index):\n",
    "    out = ''\n",
    "    shift = 0\n",
    "    while data[index] in VARIABLE_CHARS:\n",
    "        out += data[index]\n",
    "        index += 1\n",
    "        shift += 1\n",
    "    return ValueWithIndexChange(out, shift)\n",
    "\n",
    "\n",
    "def is_variable_char(char):\n",
    "    return char in VARIABLE_CHARS"
   ],
   "metadata": {
    "collapsed": false,
    "pycharm": {
     "name": "#%%\n"
    }
   }
  },
  {
   "cell_type": "code",
   "execution_count": 67,
   "outputs": [
    {
     "name": "stderr",
     "output_type": "stream",
     "text": [
      "ic| equation: 'x_y y = 12'\n"
     ]
    },
    {
     "data": {
      "text/plain": "[ValueWithIndexChange(value='x_y', shift=3),\n ValueWithIndexChange(value='y', shift=1)]"
     },
     "execution_count": 67,
     "metadata": {},
     "output_type": "execute_result"
    }
   ],
   "source": [
    "def peek_ahead(index, data, predicate):\n",
    "    chars = []\n",
    "    original_index = index\n",
    "    while index < len(data) and predicate(data[index]):\n",
    "        chars.append(data[index])\n",
    "        index += 1\n",
    "    return ValueWithIndexChange(chars, index - original_index)\n",
    "\n",
    "\n",
    "def handle_char(char, data, i):\n",
    "    if is_variable_char(char):\n",
    "        return read_variable(data, i)\n",
    "\n",
    "\n",
    "def parse_math(equation):\n",
    "    groupings = []\n",
    "    # equation = re.sub(r'\\s+', ' ', equation)\n",
    "    ic(equation)\n",
    "    i = 0\n",
    "    while i < len(equation):\n",
    "        char = equation[i]\n",
    "        if char.isspace():\n",
    "            i += 1\n",
    "            continue\n",
    "\n",
    "        if is_variable_char(char):\n",
    "            ret = handle_char(char, equation, i)\n",
    "            groupings.append(ret)\n",
    "            i += ret.shift\n",
    "            continue\n",
    "\n",
    "        i += 1\n",
    "    return groupings\n",
    "\n",
    "\n",
    "parse_math('x_y y = 12')"
   ],
   "metadata": {
    "collapsed": false,
    "pycharm": {
     "name": "#%%\n"
    }
   }
  }
 ],
 "metadata": {
  "kernelspec": {
   "display_name": "Python 3",
   "language": "python",
   "name": "python3"
  },
  "language_info": {
   "codemirror_mode": {
    "name": "ipython",
    "version": 2
   },
   "file_extension": ".py",
   "mimetype": "text/x-python",
   "name": "python",
   "nbconvert_exporter": "python",
   "pygments_lexer": "ipython2",
   "version": "2.7.6"
  }
 },
 "nbformat": 4,
 "nbformat_minor": 0
}