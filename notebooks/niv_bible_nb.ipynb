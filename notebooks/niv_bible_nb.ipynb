{
 "cells": [
  {
   "cell_type": "code",
   "execution_count": null,
   "outputs": [],
   "source": [
    "GENESIS = 'Genesis'\n",
    "EXODUS = 'Exodus'\n",
    "LEVITICUS = 'Leviticus'\n",
    "NUMBERS = 'Numbers'\n",
    "DEUTERONOMY = 'Deuteronomy'\n",
    "JOSHUA = 'Joshua'\n",
    "JUDGES = 'Judges'\n",
    "RUTH = 'Ruth'\n",
    "FIRST_SAMUEL = '1+Samuel'\n",
    "SECOND_SAMUEL = '2+Samuel'\n",
    "FIRST_KINGS = '1+Kings'\n",
    "SECOND_KINGS = '2+Kings'\n",
    "FIRST_CHRONICLES = '1+Chronicles'\n",
    "SECOND_CHRONICLES = '2+Chronicles'\n",
    "EZRA = 'Ezra'\n",
    "NEHEMIAH = 'Nehemiah'\n",
    "ESTHER = 'Esther'\n",
    "JOB = 'Job'\n",
    "PSALMS = 'Psalms'\n",
    "PROVERBS = 'Proverbs'\n",
    "ECCLESIASTES = 'Ecclesiastes'\n",
    "SONG_OF_Songs = 'Song+of+Songs'\n",
    "ISAIAH = 'Isaiah'\n",
    "JEREMIAH = 'Jeremiah'\n",
    "LAMENTATIONS = 'Lamentations'\n",
    "EZEKIEL = 'Ezekiel'\n",
    "DANIEL = 'Daniel'\n",
    "HOSEA = 'Hosea'\n",
    "JOEL = 'Joel'\n",
    "AMOS = 'Amos'\n",
    "OBADIAH = 'Obadiah'\n",
    "JONAH = 'Jonah'\n",
    "MICAH = 'Micah'\n",
    "NAHUM = 'Nahum'\n",
    "HABAKKUK = 'Habakkuk'\n",
    "ZEPHANIAH = 'Zephaniah'\n",
    "HAGGAI = 'Haggai'\n",
    "ZECHARIAH = 'Zechariah'\n",
    "MALACHI = 'Malachi'\n",
    "MATTHEW = 'Matthew'\n",
    "MARK = 'Mark'\n",
    "LUKE = 'Luke'\n",
    "JOHN = 'John'\n",
    "ACTS = 'Acts'\n",
    "ROMANS = 'Romans'\n",
    "FIRST_CORINTHIANS = '1+Corinthians'\n",
    "SECOND_CORINTHIANS = '2+Corinthians'\n",
    "GALATIANS = 'Galatians'\n",
    "EPHESIANS = 'Ephesians'\n",
    "PHILIPPIANS = 'Philippians'\n",
    "COLOSSIANS = 'Colossians'\n",
    "FIRST_THESSALONIANS = '1+Thessalonians'\n",
    "SECOND_THESSALONIANS = '2+Thessalonians'\n",
    "FIRST_TIMOTHY = '1+Timothy'\n",
    "SECOND_TIMOTHY = '2+Timothy'\n",
    "TITUS = 'Titus'\n",
    "PHILEMON = 'Philemon'\n",
    "HEBREWS = 'Hebrews'\n",
    "JAMES = 'James'\n",
    "FIRST_PETER = '1+Peter'\n",
    "SECOND_PETER = '2+Peter'\n",
    "FIRST_JOHN = '1+John'\n",
    "SECOND_JOHN = '2+John'\n",
    "THIRD_JOHN = '3+John'\n",
    "JUDE = 'Jude'\n",
    "REVELATION = 'Revelation'"
   ],
   "metadata": {
    "collapsed": false
   }
  },
  {
   "cell_type": "code",
   "execution_count": null,
   "outputs": [],
   "source": [
    "from icecream import ic\n",
    "from dataclasses import dataclass\n",
    "import requests\n",
    "\n",
    "BASE_API = 'https://bible-api.com/'\n",
    "\n",
    "\n",
    "@dataclass\n",
    "class Verse:\n",
    "    chapter: int\n",
    "    start: int = -1\n",
    "    end: int = -1\n",
    "\n",
    "\n",
    "def build_api_url(book, verse: Verse):\n",
    "    ext = ''\n",
    "    if verse.start != -1:\n",
    "        ext += f':{verse.start}'\n",
    "    if verse.end != -1:\n",
    "        ext += f'-{verse.end}'\n",
    "    return f'{BASE_API}{book}+{verse.chapter}{ext}?translation=kjv'\n",
    "\n",
    "\n",
    "@dataclass\n",
    "class GetVerseResult:\n",
    "    text: str\n",
    "    response: requests.Response\n",
    "    verses: list['VerseInfo']\n",
    "    url: str\n",
    "\n",
    "\n",
    "class VerseInfo:\n",
    "    def __init__(self, verse_dict: dict):\n",
    "        self.chapter = verse_dict['chapter']\n",
    "        self.verse = verse_dict['verse']\n",
    "        self.text = verse_dict['text']\n",
    "        self.book_name = verse_dict['book_name']\n",
    "\n",
    "    @classmethod\n",
    "    def from_response(cls, response: requests.Response):\n",
    "        return [VerseInfo(verse_dict) for verse_dict in response.json()['verses']]\n",
    "\n",
    "\n",
    "def get_verse(book, verse: Verse):\n",
    "    r = requests.get(url := build_api_url(book, verse))\n",
    "    return GetVerseResult(text=r.json()['text'], response=r, verses=VerseInfo.from_response(r), url=url)"
   ],
   "metadata": {
    "collapsed": false
   }
  },
  {
   "cell_type": "code",
   "execution_count": null,
   "outputs": [],
   "source": [
    "from IPython.display import HTML\n",
    "\n",
    "\n",
    "def render_verse(book, verse: Verse):\n",
    "    verse_data = get_verse(book, verse)\n",
    "    return HTML(data=f'<b>{verse_data.text}</b>')"
   ],
   "metadata": {
    "collapsed": false
   }
  },
  {
   "cell_type": "code",
   "execution_count": null,
   "outputs": [],
   "source": [
    "render_verse(DANIEL, Verse(1, 3, 4))"
   ],
   "metadata": {
    "collapsed": false
   }
  },
  {
   "cell_type": "code",
   "execution_count": null,
   "outputs": [],
   "source": [
    "print((data := get_verse(DANIEL, Verse(1, 3, 4))).text)"
   ],
   "metadata": {
    "collapsed": false
   }
  },
  {
   "cell_type": "code",
   "execution_count": null,
   "outputs": [],
   "source": [
    "print(data.verses[0].book_name)"
   ],
   "metadata": {
    "collapsed": false
   }
  }
 ],
 "metadata": {
  "kernelspec": {
   "display_name": "Python 3",
   "language": "python",
   "name": "python3"
  },
  "language_info": {
   "codemirror_mode": {
    "name": "ipython",
    "version": 2
   },
   "file_extension": ".py",
   "mimetype": "text/x-python",
   "name": "python",
   "nbconvert_exporter": "python",
   "pygments_lexer": "ipython2",
   "version": "2.7.6"
  }
 },
 "nbformat": 4,
 "nbformat_minor": 0
}
